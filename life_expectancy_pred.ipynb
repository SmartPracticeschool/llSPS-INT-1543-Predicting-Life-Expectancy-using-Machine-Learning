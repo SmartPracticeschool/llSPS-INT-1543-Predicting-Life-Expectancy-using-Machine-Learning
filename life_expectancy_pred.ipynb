{
 "cells": [
  {
   "cell_type": "code",
   "execution_count": 25,
   "metadata": {},
   "outputs": [],
   "source": [
    "import numpy as np\n",
    "import pandas as pd\n",
    "import matplotlib.pyplot as plt\n",
    "import seaborn as sns"
   ]
  },
  {
   "cell_type": "markdown",
   "metadata": {},
   "source": [
    "# Importing dataset"
   ]
  },
  {
   "cell_type": "code",
   "execution_count": 26,
   "metadata": {},
   "outputs": [
    {
     "data": {
      "text/html": [
       "<div>\n",
       "<style scoped>\n",
       "    .dataframe tbody tr th:only-of-type {\n",
       "        vertical-align: middle;\n",
       "    }\n",
       "\n",
       "    .dataframe tbody tr th {\n",
       "        vertical-align: top;\n",
       "    }\n",
       "\n",
       "    .dataframe thead th {\n",
       "        text-align: right;\n",
       "    }\n",
       "</style>\n",
       "<table border=\"1\" class=\"dataframe\">\n",
       "  <thead>\n",
       "    <tr style=\"text-align: right;\">\n",
       "      <th></th>\n",
       "      <th>Country</th>\n",
       "      <th>Year</th>\n",
       "      <th>Status</th>\n",
       "      <th>Life expectancy</th>\n",
       "      <th>Adult Mortality</th>\n",
       "      <th>infant deaths</th>\n",
       "      <th>Alcohol</th>\n",
       "      <th>percentage expenditure</th>\n",
       "      <th>Hepatitis B</th>\n",
       "      <th>Measles</th>\n",
       "      <th>...</th>\n",
       "      <th>Polio</th>\n",
       "      <th>Total expenditure</th>\n",
       "      <th>Diphtheria</th>\n",
       "      <th>HIV/AIDS</th>\n",
       "      <th>GDP</th>\n",
       "      <th>Population</th>\n",
       "      <th>thinness  1-19 years</th>\n",
       "      <th>thinness 5-9 years</th>\n",
       "      <th>Income composition of resources</th>\n",
       "      <th>Schooling</th>\n",
       "    </tr>\n",
       "  </thead>\n",
       "  <tbody>\n",
       "    <tr>\n",
       "      <th>0</th>\n",
       "      <td>Afghanistan</td>\n",
       "      <td>2015</td>\n",
       "      <td>Developing</td>\n",
       "      <td>65.0</td>\n",
       "      <td>263.0</td>\n",
       "      <td>62</td>\n",
       "      <td>0.01</td>\n",
       "      <td>71.279624</td>\n",
       "      <td>65.0</td>\n",
       "      <td>1154</td>\n",
       "      <td>...</td>\n",
       "      <td>6.0</td>\n",
       "      <td>8.16</td>\n",
       "      <td>65.0</td>\n",
       "      <td>0.1</td>\n",
       "      <td>584.259210</td>\n",
       "      <td>33736494.0</td>\n",
       "      <td>17.2</td>\n",
       "      <td>17.3</td>\n",
       "      <td>0.479</td>\n",
       "      <td>10.1</td>\n",
       "    </tr>\n",
       "    <tr>\n",
       "      <th>1</th>\n",
       "      <td>Afghanistan</td>\n",
       "      <td>2014</td>\n",
       "      <td>Developing</td>\n",
       "      <td>59.9</td>\n",
       "      <td>271.0</td>\n",
       "      <td>64</td>\n",
       "      <td>0.01</td>\n",
       "      <td>73.523582</td>\n",
       "      <td>62.0</td>\n",
       "      <td>492</td>\n",
       "      <td>...</td>\n",
       "      <td>58.0</td>\n",
       "      <td>8.18</td>\n",
       "      <td>62.0</td>\n",
       "      <td>0.1</td>\n",
       "      <td>612.696514</td>\n",
       "      <td>327582.0</td>\n",
       "      <td>17.5</td>\n",
       "      <td>17.5</td>\n",
       "      <td>0.476</td>\n",
       "      <td>10.0</td>\n",
       "    </tr>\n",
       "    <tr>\n",
       "      <th>2</th>\n",
       "      <td>Afghanistan</td>\n",
       "      <td>2013</td>\n",
       "      <td>Developing</td>\n",
       "      <td>59.9</td>\n",
       "      <td>268.0</td>\n",
       "      <td>66</td>\n",
       "      <td>0.01</td>\n",
       "      <td>73.219243</td>\n",
       "      <td>64.0</td>\n",
       "      <td>430</td>\n",
       "      <td>...</td>\n",
       "      <td>62.0</td>\n",
       "      <td>8.13</td>\n",
       "      <td>64.0</td>\n",
       "      <td>0.1</td>\n",
       "      <td>631.744976</td>\n",
       "      <td>31731688.0</td>\n",
       "      <td>17.7</td>\n",
       "      <td>17.7</td>\n",
       "      <td>0.470</td>\n",
       "      <td>9.9</td>\n",
       "    </tr>\n",
       "    <tr>\n",
       "      <th>3</th>\n",
       "      <td>Afghanistan</td>\n",
       "      <td>2012</td>\n",
       "      <td>Developing</td>\n",
       "      <td>59.5</td>\n",
       "      <td>272.0</td>\n",
       "      <td>69</td>\n",
       "      <td>0.01</td>\n",
       "      <td>78.184215</td>\n",
       "      <td>67.0</td>\n",
       "      <td>2787</td>\n",
       "      <td>...</td>\n",
       "      <td>67.0</td>\n",
       "      <td>8.52</td>\n",
       "      <td>67.0</td>\n",
       "      <td>0.1</td>\n",
       "      <td>669.959000</td>\n",
       "      <td>3696958.0</td>\n",
       "      <td>17.9</td>\n",
       "      <td>18.0</td>\n",
       "      <td>0.463</td>\n",
       "      <td>9.8</td>\n",
       "    </tr>\n",
       "    <tr>\n",
       "      <th>4</th>\n",
       "      <td>Afghanistan</td>\n",
       "      <td>2011</td>\n",
       "      <td>Developing</td>\n",
       "      <td>59.2</td>\n",
       "      <td>275.0</td>\n",
       "      <td>71</td>\n",
       "      <td>0.01</td>\n",
       "      <td>7.097109</td>\n",
       "      <td>68.0</td>\n",
       "      <td>3013</td>\n",
       "      <td>...</td>\n",
       "      <td>68.0</td>\n",
       "      <td>7.87</td>\n",
       "      <td>68.0</td>\n",
       "      <td>0.1</td>\n",
       "      <td>63.537231</td>\n",
       "      <td>2978599.0</td>\n",
       "      <td>18.2</td>\n",
       "      <td>18.2</td>\n",
       "      <td>0.454</td>\n",
       "      <td>9.5</td>\n",
       "    </tr>\n",
       "  </tbody>\n",
       "</table>\n",
       "<p>5 rows × 22 columns</p>\n",
       "</div>"
      ],
      "text/plain": [
       "       Country  Year      Status  Life expectancy   Adult Mortality  \\\n",
       "0  Afghanistan  2015  Developing              65.0            263.0   \n",
       "1  Afghanistan  2014  Developing              59.9            271.0   \n",
       "2  Afghanistan  2013  Developing              59.9            268.0   \n",
       "3  Afghanistan  2012  Developing              59.5            272.0   \n",
       "4  Afghanistan  2011  Developing              59.2            275.0   \n",
       "\n",
       "   infant deaths  Alcohol  percentage expenditure  Hepatitis B  Measles   ...  \\\n",
       "0             62     0.01               71.279624         65.0      1154  ...   \n",
       "1             64     0.01               73.523582         62.0       492  ...   \n",
       "2             66     0.01               73.219243         64.0       430  ...   \n",
       "3             69     0.01               78.184215         67.0      2787  ...   \n",
       "4             71     0.01                7.097109         68.0      3013  ...   \n",
       "\n",
       "   Polio  Total expenditure  Diphtheria    HIV/AIDS         GDP  Population  \\\n",
       "0    6.0               8.16         65.0        0.1  584.259210  33736494.0   \n",
       "1   58.0               8.18         62.0        0.1  612.696514    327582.0   \n",
       "2   62.0               8.13         64.0        0.1  631.744976  31731688.0   \n",
       "3   67.0               8.52         67.0        0.1  669.959000   3696958.0   \n",
       "4   68.0               7.87         68.0        0.1   63.537231   2978599.0   \n",
       "\n",
       "    thinness  1-19 years   thinness 5-9 years  \\\n",
       "0                   17.2                 17.3   \n",
       "1                   17.5                 17.5   \n",
       "2                   17.7                 17.7   \n",
       "3                   17.9                 18.0   \n",
       "4                   18.2                 18.2   \n",
       "\n",
       "   Income composition of resources  Schooling  \n",
       "0                            0.479       10.1  \n",
       "1                            0.476       10.0  \n",
       "2                            0.470        9.9  \n",
       "3                            0.463        9.8  \n",
       "4                            0.454        9.5  \n",
       "\n",
       "[5 rows x 22 columns]"
      ]
     },
     "execution_count": 26,
     "metadata": {},
     "output_type": "execute_result"
    }
   ],
   "source": [
    "\n",
    "import types\n",
    "import pandas as pd\n",
    "from botocore.client import Config\n",
    "import ibm_boto3\n",
    "\n",
    "def __iter__(self): return 0\n",
    "\n",
    "# @hidden_cell\n",
    "# The following code accesses a file in your IBM Cloud Object Storage. It includes your credentials.\n",
    "# You might want to remove those credentials before you share the notebook.\n",
    "client_3f9688f9615b4905ac51c6a765daa457 = ibm_boto3.client(service_name='s3',\n",
    "    ibm_api_key_id='t7WnXYT6ucf53aWRT1Z_gSFB29ciLfPgYzFvW_3K5ijf',\n",
    "    ibm_auth_endpoint=\"https://iam.cloud.ibm.com/oidc/token\",\n",
    "    config=Config(signature_version='oauth'),\n",
    "    endpoint_url='https://s3.eu-geo.objectstorage.service.networklayer.com')\n",
    "\n",
    "body = client_3f9688f9615b4905ac51c6a765daa457.get_object(Bucket='lifeexpectancydata-donotdelete-pr-2qg4cpdsrzfzus',Key='Life Expectancy Data.csv')['Body']\n",
    "# add missing __iter__ method, so pandas accepts body as file-like object\n",
    "if not hasattr(body, \"__iter__\"): body.__iter__ = types.MethodType( __iter__, body )\n",
    "\n",
    "data = pd.read_csv(body)\n",
    "data.head()\n"
   ]
  },
  {
   "cell_type": "markdown",
   "metadata": {},
   "source": [
    "# Data Visualisation"
   ]
  },
  {
   "cell_type": "code",
   "execution_count": 27,
   "metadata": {},
   "outputs": [
    {
     "data": {
      "image/png": "[encoded data removed]",
      "text/plain": [
       "<Figure size 432x288 with 1 Axes>"
      ]
     },
     "metadata": {
      "needs_background": "light"
     },
     "output_type": "display_data"
    }
   ],
   "source": [
    "sns.heatmap(data.isnull(),yticklabels=False,cbar=False,cmap='viridis')\n",
    "plt.show()"
   ]
  },
  {
   "cell_type": "code",
   "execution_count": 28,
   "metadata": {},
   "outputs": [
    {
     "name": "stdout",
     "output_type": "stream",
     "text": [
      "\n",
      " Data shape:  (2938, 22)\n",
      "\n",
      " Columns in data set:  Index(['Country', 'Year', 'Status', 'Life expectancy ', 'Adult Mortality',\n",
      "       'infant deaths', 'Alcohol', 'percentage expenditure', 'Hepatitis B',\n",
      "       'Measles ', ' BMI ', 'under-five deaths ', 'Polio', 'Total expenditure',\n",
      "       'Diphtheria ', ' HIV/AIDS', 'GDP', 'Population',\n",
      "       ' thinness  1-19 years', ' thinness 5-9 years',\n",
      "       'Income composition of resources', 'Schooling'],\n",
      "      dtype='object')\n"
     ]
    }
   ],
   "source": [
    "print('\\n Data shape: ',data.shape)\n",
    "print('\\n Columns in data set: ',data.columns)"
   ]
  },
  {
   "cell_type": "code",
   "execution_count": 29,
   "metadata": {},
   "outputs": [
    {
     "name": "stdout",
     "output_type": "stream",
     "text": [
      "<class 'pandas.core.frame.DataFrame'>\n",
      "RangeIndex: 2938 entries, 0 to 2937\n",
      "Data columns (total 22 columns):\n",
      "Country                            2938 non-null object\n",
      "Year                               2938 non-null int64\n",
      "Status                             2938 non-null object\n",
      "Life expectancy                    2928 non-null float64\n",
      "Adult Mortality                    2928 non-null float64\n",
      "infant deaths                      2938 non-null int64\n",
      "Alcohol                            2744 non-null float64\n",
      "percentage expenditure             2938 non-null float64\n",
      "Hepatitis B                        2385 non-null float64\n",
      "Measles                            2938 non-null int64\n",
      " BMI                               2904 non-null float64\n",
      "under-five deaths                  2938 non-null int64\n",
      "Polio                              2919 non-null float64\n",
      "Total expenditure                  2712 non-null float64\n",
      "Diphtheria                         2919 non-null float64\n",
      " HIV/AIDS                          2938 non-null float64\n",
      "GDP                                2490 non-null float64\n",
      "Population                         2286 non-null float64\n",
      " thinness  1-19 years              2904 non-null float64\n",
      " thinness 5-9 years                2904 non-null float64\n",
      "Income composition of resources    2771 non-null float64\n",
      "Schooling                          2775 non-null float64\n",
      "dtypes: float64(16), int64(4), object(2)\n",
      "memory usage: 505.0+ KB\n",
      "\n",
      " None\n"
     ]
    }
   ],
   "source": [
    "print('\\n',data.info())"
   ]
  },
  {
   "cell_type": "code",
   "execution_count": 30,
   "metadata": {},
   "outputs": [
    {
     "name": "stdout",
     "output_type": "stream",
     "text": [
      "\n",
      "                                      Year  Life expectancy   Adult Mortality  \\\n",
      "Year                             1.000000          0.170033        -0.079052   \n",
      "Life expectancy                  0.170033          1.000000        -0.696359   \n",
      "Adult Mortality                 -0.079052         -0.696359         1.000000   \n",
      "infant deaths                   -0.037415         -0.196557         0.078756   \n",
      "Alcohol                         -0.052990          0.404877        -0.195848   \n",
      "percentage expenditure           0.031400          0.381864        -0.242860   \n",
      "Hepatitis B                      0.104333          0.256762        -0.162476   \n",
      "Measles                         -0.082493         -0.157586         0.031176   \n",
      " BMI                             0.108974          0.567694        -0.387017   \n",
      "under-five deaths               -0.042937         -0.222529         0.094146   \n",
      "Polio                            0.094158          0.465556        -0.274823   \n",
      "Total expenditure                0.090740          0.218086        -0.115281   \n",
      "Diphtheria                       0.134337          0.479495        -0.275131   \n",
      " HIV/AIDS                       -0.139741         -0.556556         0.523821   \n",
      "GDP                              0.101620          0.461455        -0.296049   \n",
      "Population                       0.016969         -0.021538        -0.013647   \n",
      " thinness  1-19 years           -0.047876         -0.477183         0.302904   \n",
      " thinness 5-9 years             -0.050929         -0.471584         0.308457   \n",
      "Income composition of resources  0.243468          0.724776        -0.457626   \n",
      "Schooling                        0.209400          0.751975        -0.454612   \n",
      "\n",
      "                                 infant deaths   Alcohol  \\\n",
      "Year                                 -0.037415 -0.052990   \n",
      "Life expectancy                      -0.196557  0.404877   \n",
      "Adult Mortality                       0.078756 -0.195848   \n",
      "infant deaths                         1.000000 -0.115638   \n",
      "Alcohol                              -0.115638  1.000000   \n",
      "percentage expenditure               -0.085612  0.341285   \n",
      "Hepatitis B                          -0.223566  0.087549   \n",
      "Measles                               0.501128 -0.051827   \n",
      " BMI                                 -0.227279  0.330408   \n",
      "under-five deaths                     0.996629 -0.112370   \n",
      "Polio                                -0.170689  0.221734   \n",
      "Total expenditure                    -0.128616  0.296942   \n",
      "Diphtheria                           -0.175171  0.222020   \n",
      " HIV/AIDS                             0.025231 -0.048845   \n",
      "GDP                                  -0.108427  0.354712   \n",
      "Population                            0.556801 -0.035252   \n",
      " thinness  1-19 years                 0.465711 -0.428795   \n",
      " thinness 5-9 years                   0.471350 -0.417414   \n",
      "Income composition of resources      -0.145139  0.450040   \n",
      "Schooling                            -0.193720  0.547378   \n",
      "\n",
      "                                 percentage expenditure  Hepatitis B  \\\n",
      "Year                                           0.031400     0.104333   \n",
      "Life expectancy                                0.381864     0.256762   \n",
      "Adult Mortality                               -0.242860    -0.162476   \n",
      "infant deaths                                 -0.085612    -0.223566   \n",
      "Alcohol                                        0.341285     0.087549   \n",
      "percentage expenditure                         1.000000     0.016274   \n",
      "Hepatitis B                                    0.016274     1.000000   \n",
      "Measles                                       -0.056596    -0.120529   \n",
      " BMI                                           0.228700     0.150380   \n",
      "under-five deaths                             -0.087852    -0.233126   \n",
      "Polio                                          0.147259     0.486171   \n",
      "Total expenditure                              0.174420     0.058280   \n",
      "Diphtheria                                     0.143624     0.611495   \n",
      " HIV/AIDS                                     -0.097857    -0.112675   \n",
      "GDP                                            0.899373     0.083903   \n",
      "Population                                    -0.025662    -0.123321   \n",
      " thinness  1-19 years                         -0.251369    -0.120429   \n",
      " thinness 5-9 years                           -0.252905    -0.124960   \n",
      "Income composition of resources                0.381952     0.199549   \n",
      "Schooling                                      0.389687     0.231117   \n",
      "\n",
      "                                 Measles       BMI   under-five deaths   \\\n",
      "Year                            -0.082493  0.108974           -0.042937   \n",
      "Life expectancy                 -0.157586  0.567694           -0.222529   \n",
      "Adult Mortality                  0.031176 -0.387017            0.094146   \n",
      "infant deaths                    0.501128 -0.227279            0.996629   \n",
      "Alcohol                         -0.051827  0.330408           -0.112370   \n",
      "percentage expenditure          -0.056596  0.228700           -0.087852   \n",
      "Hepatitis B                     -0.120529  0.150380           -0.233126   \n",
      "Measles                          1.000000 -0.175977            0.507809   \n",
      " BMI                            -0.175977  1.000000           -0.237669   \n",
      "under-five deaths                0.507809 -0.237669            1.000000   \n",
      "Polio                           -0.136166  0.284569           -0.188720   \n",
      "Total expenditure               -0.106241  0.242503           -0.130148   \n",
      "Diphtheria                      -0.141882  0.283147           -0.195668   \n",
      " HIV/AIDS                        0.030899 -0.243717            0.038062   \n",
      "GDP                             -0.076466  0.301557           -0.112081   \n",
      "Population                       0.265966 -0.072301            0.544423   \n",
      " thinness  1-19 years            0.224808 -0.532025            0.467789   \n",
      " thinness 5-9 years              0.221072 -0.538911            0.472263   \n",
      "Income composition of resources -0.129568  0.508774           -0.163305   \n",
      "Schooling                       -0.137225  0.546961           -0.209373   \n",
      "\n",
      "                                    Polio  Total expenditure  Diphtheria   \\\n",
      "Year                             0.094158           0.090740     0.134337   \n",
      "Life expectancy                  0.465556           0.218086     0.479495   \n",
      "Adult Mortality                 -0.274823          -0.115281    -0.275131   \n",
      "infant deaths                   -0.170689          -0.128616    -0.175171   \n",
      "Alcohol                          0.221734           0.296942     0.222020   \n",
      "percentage expenditure           0.147259           0.174420     0.143624   \n",
      "Hepatitis B                      0.486171           0.058280     0.611495   \n",
      "Measles                         -0.136166          -0.106241    -0.141882   \n",
      " BMI                             0.284569           0.242503     0.283147   \n",
      "under-five deaths               -0.188720          -0.130148    -0.195668   \n",
      "Polio                            1.000000           0.137330     0.673553   \n",
      "Total expenditure                0.137330           1.000000     0.152754   \n",
      "Diphtheria                       0.673553           0.152754     1.000000   \n",
      " HIV/AIDS                       -0.159560          -0.001389    -0.164860   \n",
      "GDP                              0.211976           0.138364     0.200666   \n",
      "Population                      -0.038540          -0.079662    -0.028444   \n",
      " thinness  1-19 years           -0.221823          -0.277101    -0.229518   \n",
      " thinness 5-9 years             -0.222592          -0.283774    -0.222743   \n",
      "Income composition of resources  0.381078           0.166682     0.401456   \n",
      "Schooling                        0.417866           0.246384     0.425332   \n",
      "\n",
      "                                  HIV/AIDS       GDP  Population  \\\n",
      "Year                             -0.139741  0.101620    0.016969   \n",
      "Life expectancy                  -0.556556  0.461455   -0.021538   \n",
      "Adult Mortality                   0.523821 -0.296049   -0.013647   \n",
      "infant deaths                     0.025231 -0.108427    0.556801   \n",
      "Alcohol                          -0.048845  0.354712   -0.035252   \n",
      "percentage expenditure           -0.097857  0.899373   -0.025662   \n",
      "Hepatitis B                      -0.112675  0.083903   -0.123321   \n",
      "Measles                           0.030899 -0.076466    0.265966   \n",
      " BMI                             -0.243717  0.301557   -0.072301   \n",
      "under-five deaths                 0.038062 -0.112081    0.544423   \n",
      "Polio                            -0.159560  0.211976   -0.038540   \n",
      "Total expenditure                -0.001389  0.138364   -0.079662   \n",
      "Diphtheria                       -0.164860  0.200666   -0.028444   \n",
      " HIV/AIDS                         1.000000 -0.136491   -0.027854   \n",
      "GDP                              -0.136491  1.000000   -0.028270   \n",
      "Population                       -0.027854 -0.028270    1.000000   \n",
      " thinness  1-19 years             0.204064 -0.285697    0.253944   \n",
      " thinness 5-9 years               0.207283 -0.290539    0.251403   \n",
      "Income composition of resources  -0.249519  0.460341   -0.008735   \n",
      "Schooling                        -0.220429  0.448273   -0.031668   \n",
      "\n",
      "                                  thinness  1-19 years   thinness 5-9 years  \\\n",
      "Year                                         -0.047876            -0.050929   \n",
      "Life expectancy                              -0.477183            -0.471584   \n",
      "Adult Mortality                               0.302904             0.308457   \n",
      "infant deaths                                 0.465711             0.471350   \n",
      "Alcohol                                      -0.428795            -0.417414   \n",
      "percentage expenditure                       -0.251369            -0.252905   \n",
      "Hepatitis B                                  -0.120429            -0.124960   \n",
      "Measles                                       0.224808             0.221072   \n",
      " BMI                                         -0.532025            -0.538911   \n",
      "under-five deaths                             0.467789             0.472263   \n",
      "Polio                                        -0.221823            -0.222592   \n",
      "Total expenditure                            -0.277101            -0.283774   \n",
      "Diphtheria                                   -0.229518            -0.222743   \n",
      " HIV/AIDS                                     0.204064             0.207283   \n",
      "GDP                                          -0.285697            -0.290539   \n",
      "Population                                    0.253944             0.251403   \n",
      " thinness  1-19 years                         1.000000             0.939102   \n",
      " thinness 5-9 years                           0.939102             1.000000   \n",
      "Income composition of resources              -0.422429            -0.411053   \n",
      "Schooling                                    -0.471652            -0.460632   \n",
      "\n",
      "                                 Income composition of resources  Schooling  \n",
      "Year                                                    0.243468   0.209400  \n",
      "Life expectancy                                         0.724776   0.751975  \n",
      "Adult Mortality                                        -0.457626  -0.454612  \n",
      "infant deaths                                          -0.145139  -0.193720  \n",
      "Alcohol                                                 0.450040   0.547378  \n",
      "percentage expenditure                                  0.381952   0.389687  \n",
      "Hepatitis B                                             0.199549   0.231117  \n",
      "Measles                                                -0.129568  -0.137225  \n",
      " BMI                                                    0.508774   0.546961  \n",
      "under-five deaths                                      -0.163305  -0.209373  \n",
      "Polio                                                   0.381078   0.417866  \n",
      "Total expenditure                                       0.166682   0.246384  \n",
      "Diphtheria                                              0.401456   0.425332  \n",
      " HIV/AIDS                                              -0.249519  -0.220429  \n",
      "GDP                                                     0.460341   0.448273  \n",
      "Population                                             -0.008735  -0.031668  \n",
      " thinness  1-19 years                                  -0.422429  -0.471652  \n",
      " thinness 5-9 years                                    -0.411053  -0.460632  \n",
      "Income composition of resources                         1.000000   0.800092  \n",
      "Schooling                                               0.800092   1.000000  \n"
     ]
    }
   ],
   "source": [
    "print('\\n',data.corr())"
   ]
  },
  {
   "cell_type": "code",
   "execution_count": 31,
   "metadata": {},
   "outputs": [
    {
     "name": "stdout",
     "output_type": "stream",
     "text": [
      "\n",
      " Country                              0\n",
      "Year                                 0\n",
      "Status                               0\n",
      "Life expectancy                     10\n",
      "Adult Mortality                     10\n",
      "infant deaths                        0\n",
      "Alcohol                            194\n",
      "percentage expenditure               0\n",
      "Hepatitis B                        553\n",
      "Measles                              0\n",
      " BMI                                34\n",
      "under-five deaths                    0\n",
      "Polio                               19\n",
      "Total expenditure                  226\n",
      "Diphtheria                          19\n",
      " HIV/AIDS                            0\n",
      "GDP                                448\n",
      "Population                         652\n",
      " thinness  1-19 years               34\n",
      " thinness 5-9 years                 34\n",
      "Income composition of resources    167\n",
      "Schooling                          163\n",
      "dtype: int64\n"
     ]
    }
   ],
   "source": [
    "print('\\n',data.isnull().sum(axis=0))"
   ]
  },
  {
   "cell_type": "code",
   "execution_count": 32,
   "metadata": {},
   "outputs": [
    {
     "name": "stdout",
     "output_type": "stream",
     "text": [
      "\n",
      " Country                              0\n",
      "Year                                 0\n",
      "Status                               0\n",
      "Life expectancy                     10\n",
      "Adult Mortality                     10\n",
      "infant deaths                        0\n",
      "Alcohol                            194\n",
      "percentage expenditure               0\n",
      "Hepatitis B                        553\n",
      "Measles                              0\n",
      " BMI                                34\n",
      "under-five deaths                    0\n",
      "Polio                               19\n",
      "Total expenditure                  226\n",
      "Diphtheria                          19\n",
      " HIV/AIDS                            0\n",
      "GDP                                448\n",
      "Population                         652\n",
      " thinness  1-19 years               34\n",
      " thinness 5-9 years                 34\n",
      "Income composition of resources    167\n",
      "Schooling                          163\n",
      "dtype: int64\n"
     ]
    }
   ],
   "source": [
    "print('\\n',data.isnull().sum(axis=0))"
   ]
  },
  {
   "cell_type": "markdown",
   "metadata": {},
   "source": [
    "# Data preprocessing"
   ]
  },
  {
   "cell_type": "code",
   "execution_count": 33,
   "metadata": {},
   "outputs": [],
   "source": [
    "from sklearn.preprocessing import LabelEncoder\n",
    "lb = LabelEncoder()\n",
    "data['Status'] = lb.fit_transform(data['Status'])"
   ]
  },
  {
   "cell_type": "code",
   "execution_count": 34,
   "metadata": {},
   "outputs": [
    {
     "data": {
      "text/plain": [
       "2938"
      ]
     },
     "execution_count": 34,
     "metadata": {},
     "output_type": "execute_result"
    }
   ],
   "source": [
    "data = data.drop('Country', axis=1)\n",
    "data.fillna(value=data.mean(),inplace=True)\n",
    "data_shape = data.shape[0]\n",
    "data_shape"
   ]
  },
  {
   "cell_type": "markdown",
   "metadata": {},
   "source": [
    "# Implementing linear regression model"
   ]
  },
  {
   "cell_type": "code",
   "execution_count": 35,
   "metadata": {},
   "outputs": [],
   "source": [
    "X = data.drop(['Life expectancy '], axis=1).values\n",
    "y = data['Life expectancy '].values"
   ]
  },
  {
   "cell_type": "code",
   "execution_count": 37,
   "metadata": {},
   "outputs": [
    {
     "data": {
      "text/plain": [
       "LinearRegression(copy_X=True, fit_intercept=True, n_jobs=None,\n",
       "         normalize=False)"
      ]
     },
     "execution_count": 37,
     "metadata": {},
     "output_type": "execute_result"
    }
   ],
   "source": [
    "from sklearn.model_selection import train_test_split\n",
    "X_train, X_test, y_train, y_test = train_test_split(X,y,test_size = 0.4,random_state=80)\n",
    "from sklearn.linear_model import LinearRegression\n",
    "lr = LinearRegression()\n",
    "lr.fit(X_train,y_train)"
   ]
  },
  {
   "cell_type": "code",
   "execution_count": 38,
   "metadata": {},
   "outputs": [
    {
     "data": {
      "text/plain": [
       "array([74.46655674, 78.87399467, 71.58313774, ..., 78.71642691,\n",
       "       73.65695951, 67.72068121])"
      ]
     },
     "execution_count": 38,
     "metadata": {},
     "output_type": "execute_result"
    }
   ],
   "source": [
    "y_prediction = lr.predict(X_test)\n",
    "y_prediction"
   ]
  },
  {
   "cell_type": "code",
   "execution_count": 39,
   "metadata": {},
   "outputs": [
    {
     "name": "stdout",
     "output_type": "stream",
     "text": [
      "\n",
      "accuracy(R^2): 80.96525309473272%\n",
      "\n",
      "mae: 3.037665413368803\n",
      "\n",
      "rmse: 4.061072548954602\n"
     ]
    }
   ],
   "source": [
    "from sklearn.metrics import mean_squared_error, accuracy_score, mean_absolute_error\n",
    "print('\\naccuracy(R^2): {}%'.format(lr.score(X_test, y_test)*100))\n",
    "print('\\nmae: {}'.format(mean_absolute_error(y_test, y_prediction)))\n",
    "print('\\nrmse: {}'.format(np.sqrt(mean_squared_error(y_test, y_prediction))))"
   ]
  },
  {
   "cell_type": "code",
   "execution_count": 40,
   "metadata": {},
   "outputs": [
    {
     "data": {
      "image/png": "[encoded data removed]",
      "text/plain": [
       "<Figure size 432x288 with 1 Axes>"
      ]
     },
     "metadata": {
      "needs_background": "light"
     },
     "output_type": "display_data"
    }
   ],
   "source": [
    "#LR_scatter_graph\n",
    "sns.scatterplot(x=y_test,y=y_prediction)\n",
    "plt.show()"
   ]
  },
  {
   "cell_type": "code",
   "execution_count": 41,
   "metadata": {},
   "outputs": [
    {
     "data": {
      "text/plain": [
       "array([63.09031412])"
      ]
     },
     "execution_count": 41,
     "metadata": {},
     "output_type": "execute_result"
    }
   ],
   "source": [
    "demo_pred=lr.predict([[2015,0,263,62,0.01,71.27962362,65,1154,19.1,83,6,8.16,65,0.1,584.25921,33736494,17.2,17.3,0.479,10.1]])\n",
    "demo_pred"
   ]
  },
  {
   "cell_type": "markdown",
   "metadata": {},
   "source": [
    "# Deployment"
   ]
  },
  {
   "cell_type": "code",
   "execution_count": 1,
   "metadata": {},
   "outputs": [],
   "source": [
    "#only if you are working with IBM watson studio\n",
    "#run following code\n",
    "# !pip install watson-machine-learning-client\n"
   ]
  },
  {
   "cell_type": "code",
   "execution_count": 3,
   "metadata": {},
   "outputs": [],
   "source": [
    "# from watson_machine_learning_client import WatsonMachineLearningAPIClient\n"
   ]
  },
  {
   "cell_type": "code",
   "execution_count": 4,
   "metadata": {},
   "outputs": [],
   "source": [
    "\n",
    "# wml_credentials={\n",
    "#   \"apikey\": #add your api key here.\"--\" ,\n",
    "#    \"instance_id\": #add your instance id key here.\"--\" ,,\n",
    "#   \"url\": #add your url key here.\"--\" ,\n",
    "#    }\n",
    "#this all can get from IBM machine learning service credentials"
   ]
  },
  {
   "cell_type": "code",
   "execution_count": 5,
   "metadata": {},
   "outputs": [],
   "source": [
    "# client=WatsonMachineLearningAPIClient(wml_credentials)\n"
   ]
  },
  {
   "cell_type": "code",
   "execution_count": 6,
   "metadata": {},
   "outputs": [],
   "source": [
    "#  model_props = {client.repository.ModelMetaNames.AUTHOR_NAME: \"--\", \n",
    "#                client.repository.ModelMetaNames.AUTHOR_EMAIL: \"--@gmail.com\", \n",
    "#                 client.repository.ModelMetaNames.NAME: \"--\"}"
   ]
  },
  {
   "cell_type": "code",
   "execution_count": 7,
   "metadata": {},
   "outputs": [],
   "source": [
    "# model_artifact =client.repository.store_model(#model_object\n",
    "#     , meta_props=model_props)"
   ]
  },
  {
   "cell_type": "code",
   "execution_count": 8,
   "metadata": {},
   "outputs": [],
   "source": [
    "# published_model_uid = client.repository.get_model_uid(model_artifact)\n",
    "\n",
    "# published_model_uid"
   ]
  },
  {
   "cell_type": "code",
   "execution_count": 9,
   "metadata": {},
   "outputs": [],
   "source": [
    "# deployment = client.deployments.create(published_model_uid, name=\"LifeExpectancy\")"
   ]
  },
  {
   "cell_type": "code",
   "execution_count": 68,
   "metadata": {},
   "outputs": [],
   "source": [
    "scoring_endpoint = client.deployments.get_scoring_url(deployment)"
   ]
  },
  {
   "cell_type": "code",
   "execution_count": 69,
   "metadata": {},
   "outputs": [
    {
     "data": {
      "text/plain": [
       "'https://eu-gb.ml.cloud.ibm.com/v3/wml_instances/2860fbe3-33ca-48ca-a4ba-d09de284f468/deployments/9f047e98-0dc0-449b-845a-729b330087ef/online'"
      ]
     },
     "execution_count": 69,
     "metadata": {},
     "output_type": "execute_result"
    }
   ],
   "source": [
    "scoring_endpoint"
   ]
  },
  {
   "cell_type": "code",
   "execution_count": null,
   "metadata": {},
   "outputs": [],
   "source": []
  }
 ],
 "metadata": {
  "kernelspec": {
   "display_name": "Python 3",
   "language": "python",
   "name": "python3"
  },
  "language_info": {
   "codemirror_mode": {
    "name": "ipython",
    "version": 3
   },
   "file_extension": ".py",
   "mimetype": "text/x-python",
   "name": "python",
   "nbconvert_exporter": "python",
   "pygments_lexer": "ipython3",
   "version": "3.7.4"
  }
 },
 "nbformat": 4,
 "nbformat_minor": 1
}
